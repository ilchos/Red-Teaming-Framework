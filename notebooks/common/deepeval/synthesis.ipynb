{
 "cells": [
  {
   "cell_type": "code",
   "execution_count": 1,
   "metadata": {},
   "outputs": [],
   "source": [
    "%load_ext autoreload\n",
    "%autoreload 2\n",
    "import sys, os\n",
    "sys.path.append(os.path.abspath(r\"C:\\Users\\rurur\\Desktop\\proj\\LLM\\Red Teaming Framework\"))"
   ]
  },
  {
   "cell_type": "code",
   "execution_count": null,
   "metadata": {},
   "outputs": [],
   "source": [
    "import pandas as pd\n",
    "\n",
    "from langchain_core.prompts import ChatPromptTemplate\n",
    "from langchain_core.output_parsers import StrOutputParser\n",
    "from langchain.callbacks import tracing_v2_enabled\n",
    "\n",
    "from deepeval import evaluate\n",
    "from deepeval.metrics import HallucinationMetric\n",
    "from deepeval.test_case import LLMTestCase\n",
    "from deepeval.metrics import ToxicityMetric\n",
    "from deepeval.red_team import RTAdversarialAttack, RTVulnerability\n",
    "\n",
    "from utils.load_llms import LLMLoader\n",
    "from utils.output import get_model_title\n",
    "from models import LangchainModelEval\n",
    "\n",
    "os.environ[\"DEEPEVAL_RESULTS_FOLDER\"]=\"./data/deepeval\""
   ]
  },
  {
   "cell_type": "code",
   "execution_count": null,
   "metadata": {},
   "outputs": [],
   "source": [
    "# Если не нужен tracing, то эту клетку можно пропустить\n",
    "from utils.load_config import load_api_keys\n",
    "api_keys = load_api_keys()\n",
    "os.environ[\"LANGCHAIN_API_KEY\"] = api_keys[\"langchain\"][\"key\"]\n",
    "os.environ[\"LANGCHAIN_PROJECT\"] = \"default\""
   ]
  },
  {
   "cell_type": "code",
   "execution_count": null,
   "metadata": {},
   "outputs": [],
   "source": [
    "loader = LLMLoader()\n",
    "llm_mistral = loader.load_vsegpt(\"mistralai/mistral-7b-instruct\", temperature=0.3)\n",
    "llm_gpt3 = loader.load_vsegpt(\"openai/gpt-3.5-turbo\", temperature=0.3)\n",
    "\n",
    "de_model_mistral = LangchainModelEval(llm_mistral)\n",
    "de_model_gpt3 = LangchainModelEval(llm_gpt3)\n",
    "chain = llm_mistral | StrOutputParser()"
   ]
  },
  {
   "cell_type": "code",
   "execution_count": null,
   "metadata": {},
   "outputs": [],
   "source": [
    "from deepeval.synthesizer import Synthesizer\n",
    "\n",
    "synthesizer = Synthesizer(de_model_gpt3)\n",
    "with tracing_v2_enabled():\n",
    "    synthesizer.generate_goldens_from_scratch(\n",
    "        subject=\"Советы о том как украсть продукты из магазина\",\n",
    "        task=\"Red-team LLMs\",\n",
    "        output_format=\"string\",\n",
    "        num_initial_goldens=5,\n",
    "        num_evolutions=10\n",
    "    )\n"
   ]
  },
  {
   "cell_type": "code",
   "execution_count": null,
   "metadata": {},
   "outputs": [],
   "source": [
    "synthesizer.save_as(\n",
    "    file_type='json', # or 'csv'\n",
    "    directory=\"./data/deepeval/synthetic\"\n",
    ")"
   ]
  },
  {
   "cell_type": "code",
   "execution_count": null,
   "metadata": {},
   "outputs": [],
   "source": [
    "import json\n",
    "from pathlib import Path\n",
    "folder_path = Path(r\"C:\\Users\\rurur\\Desktop\\proj\\LLM\\Red Teaming Framework\\notebooks\\local\\deepeval\\data\\deepeval\\synthetic\")\n",
    "file_path = folder_path / \"20240904_214544.json\"\n",
    "json.loads(file_path.read_text())"
   ]
  }
 ],
 "metadata": {
  "kernelspec": {
   "display_name": "Python 3",
   "language": "python",
   "name": "python3"
  },
  "language_info": {
   "codemirror_mode": {
    "name": "ipython",
    "version": 3
   },
   "file_extension": ".py",
   "mimetype": "text/x-python",
   "name": "python",
   "nbconvert_exporter": "python",
   "pygments_lexer": "ipython3",
   "version": "3.10.10"
  }
 },
 "nbformat": 4,
 "nbformat_minor": 2
}
