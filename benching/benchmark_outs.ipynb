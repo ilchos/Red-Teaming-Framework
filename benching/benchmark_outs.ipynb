{
 "cells": [
  {
   "cell_type": "markdown",
   "metadata": {},
   "source": [
    "# Step 1. Let's bomb your model!\n",
    "\n",
    "This script bombs your model on our little red-teaming evaluation dataset and saves answers of your model into the file.\n",
    "\n",
    "You can upload this file to our benchmark if you want to get metrics OR you can run the bench.py file to get results yourself.\n",
    "\n",
    "## What do you need?\n",
    "\n",
    "If you use your custom model, just provide it to the this \"generate\" function:\n",
    "\n",
    "```\n",
    "def generate(system_prompt: str, user_prompt: str) -> str:\n",
    "\n",
    "    # your function initialization, in example:\n",
    "    # return model.generate(f\"\"\"system:\n",
    "\n",
    "{system_prompt}\n",
    "\n",
    "user:\n",
    "\n",
    "{user_prompt}\n",
    "\n",
    "assistant: \"\"\")\n",
    "```\n",
    "\n",
    "Otherwise, use our\n",
    "```\n",
    "import generate from benching\n",
    "```"
   ]
  },
  {
   "cell_type": "code",
   "execution_count": null,
   "metadata": {},
   "outputs": [],
   "source": [
    "# TODO load benchmark data\n",
    "# TODO generate answers on data\n",
    "# TODO save results"
   ]
  }
 ],
 "metadata": {
  "language_info": {
   "name": "python"
  }
 },
 "nbformat": 4,
 "nbformat_minor": 2
}
